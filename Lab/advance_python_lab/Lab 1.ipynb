{
  "metadata": {
    "kernelspec": {
      "name": "python",
      "display_name": "Python (Pyodide)",
      "language": "python"
    },
    "language_info": {
      "codemirror_mode": {
        "name": "python",
        "version": 3
      },
      "file_extension": ".py",
      "mimetype": "text/x-python",
      "name": "python",
      "nbconvert_exporter": "python",
      "pygments_lexer": "ipython3",
      "version": "3.8"
    }
  },
  "nbformat_minor": 4,
  "nbformat": 4,
  "cells": [
    {
      "cell_type": "code",
      "source": "import numpy as np\n\n# 1 convert list into array\n\nlist1 = [1, 2, 3, 4, 5]\narr1 = np.array(list1)\nprint(arr1)",
      "metadata": {
        "trusted": true,
        "tags": [],
        "editable": true,
        "slideshow": {
          "slide_type": ""
        }
      },
      "outputs": [
        {
          "name": "stdout",
          "text": "[1 2 3 4 5]\n",
          "output_type": "stream"
        }
      ],
      "execution_count": 3
    },
    {
      "cell_type": "code",
      "source": "# 2 convert list into array then display the array then display first and last index then multiply each element by two and display result\n \nlist1 = [1,2,3,4,5]\narr1 = np.array(list1)\nprint(arr1)\nprint(\"first element: \" ,arr1[0])\nprint(\"last element: \" ,arr1[-1])\narr2 = arr1 * 2\nprint(\"Array with each element multiplied by two: \", arr2)",
      "metadata": {
        "trusted": true
      },
      "outputs": [
        {
          "name": "stdout",
          "text": "[1 2 3 4 5]\nfirst element:  1\nlast element:  5\nArray with each element multiplied by two:  [ 2  4  6  8 10]\n",
          "output_type": "stream"
        }
      ],
      "execution_count": 4
    },
    {
      "cell_type": "code",
      "source": "# 3 write a numpy program to create an array of 10 zero , 10 ones and 10 fives\n\nzeros_array = np.zeros(10)\nones_array = np.ones(10)\nfives_array = np.full(10, 5)\nprint(\"Array of 10 zeros: \",zeros_array)\nprint(\"\\nArray of 10 ones: \",ones_array)\nprint(\"\\nArray of 10 fives: \",fives_array)\n",
      "metadata": {
        "trusted": true
      },
      "outputs": [
        {
          "name": "stdout",
          "text": "Array of 10 zeros:  [0. 0. 0. 0. 0. 0. 0. 0. 0. 0.]\n\nArray of 10 ones:  [1. 1. 1. 1. 1. 1. 1. 1. 1. 1.]\n\nArray of 10 fives:  [5 5 5 5 5 5 5 5 5 5]\n",
          "output_type": "stream"
        }
      ],
      "execution_count": 5
    },
    {
      "cell_type": "code",
      "source": "# 4 Write a numpy program to create  3*3 matrix with values ranging form 2 to 10\n\nvalues = np.arange(2, 11)\nmatrix = values.reshape((3, 3))\nprint(\"3x3 matrix with values ranging from 2 to 10: \",matrix)",
      "metadata": {
        "trusted": true
      },
      "outputs": [
        {
          "name": "stdout",
          "text": "3x3 matrix with values ranging from 2 to 10:  [[ 2  3  4]\n [ 5  6  7]\n [ 8  9 10]]\n",
          "output_type": "stream"
        }
      ],
      "execution_count": 6
    },
    {
      "cell_type": "code",
      "source": "",
      "metadata": {
        "trusted": true
      },
      "outputs": [],
      "execution_count": null
    }
  ]
}