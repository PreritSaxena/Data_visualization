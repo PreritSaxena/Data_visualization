{
  "metadata": {
    "kernelspec": {
      "name": "python",
      "display_name": "Python (Pyodide)",
      "language": "python"
    },
    "language_info": {
      "codemirror_mode": {
        "name": "python",
        "version": 3
      },
      "file_extension": ".py",
      "mimetype": "text/x-python",
      "name": "python",
      "nbconvert_exporter": "python",
      "pygments_lexer": "ipython3",
      "version": "3.8"
    }
  },
  "nbformat_minor": 4,
  "nbformat": 4,
  "cells": [
    {
      "cell_type": "code",
      "source": "import numpy as np\n\n# 1. Temperature exceeded 35 degrees Celsius (hot day) or dropped below 5 degrees Celsius (cold day)\n\ntemperatures = np.array([32.5, 34.2, 36.8, 29.3, 31.0, 38.7, 23.1, 18.5, 22.8, 37.2, 4.0, 30.0, 14.0, -4.0, -12.0])\n\nhot_days = np.where(temperatures > 35)[0]\nhot_temps = temperatures[hot_days]\nprint(\"Hot Days:\")\nprint(\"Day   Temperature (°C)\")\nfor day, temp in zip(hot_days + 1, hot_temps):  \n    print(f\"{day:2}    {temp:5.1f}\")\n\ncold_days = np.where(temperatures < 5)[0]\ncold_temps = temperatures[cold_days]\nprint(\"\\nCold Days:\")\nprint(\"Day   Temperature (°C)\")\nfor day, temp in zip(cold_days + 1, cold_temps):  \n    print(f\"{day:2}    {temp:5.1f}\")",
      "metadata": {
        "trusted": true
      },
      "outputs": [
        {
          "name": "stdout",
          "text": "Hot Days:\nDay   Temperature (°C)\n 3     36.8\n 6     38.7\n10     37.2\n\nCold Days:\nDay   Temperature (°C)\n11      4.0\n14     -4.0\n15    -12.0\n",
          "output_type": "stream"
        }
      ],
      "execution_count": 1
    },
    {
      "cell_type": "code",
      "source": "# 2. Split data into quarterly reports for analysis and reporting purposes\n\nmonthly_sales = np.array([120, 135, 148, 165, 180, 155, 168, 190, 205, 198, 210, 225])\nQ1 = monthly_sales[:3]\nQ2 = monthly_sales[3:6]\nQ3 = monthly_sales[6:9]\nQ4 = monthly_sales[9:12] \nprint(\"Quarter 1 Sales (in thousands of dollars):\\n\", Q1)\nprint(\"Quarter 2 Sales (in thousands of dollars):\\n\", Q2)\nprint(\"Quarter 3 Sales (in thousands of dollars):\\n\", Q3)\nprint(\"Quarter 4 Sales (in thousands of dollars):\\n\", Q4)",
      "metadata": {
        "trusted": true
      },
      "outputs": [
        {
          "name": "stdout",
          "text": "Quarter 1 Sales (in thousands of dollars):\n [120 135 148]\nQuarter 2 Sales (in thousands of dollars):\n [165 180 155]\nQuarter 3 Sales (in thousands of dollars):\n [168 190 205]\nQuarter 4 Sales (in thousands of dollars):\n [198 210 225]\n",
          "output_type": "stream"
        }
      ],
      "execution_count": 2
    },
    {
      "cell_type": "code",
      "source": "# Ques3. Split data into two groups: one group for customers who made a purchase in the last 30 days and \n# another group for customers who haven't made a purchase in the last 30 days.\n\nimport numpy as np\n\ncustomer_ids = np.array([101, 102, 103, 104, 105, 106, 107, 108, 109, 110])\nlast_purchase_days_ago = np.array([5, 15, 20, 25, 30, 35, 40, 45, 50, 55])\n\nrecent_customers = customer_ids[last_purchase_days_ago <= 30]\n\nnon_recent_customers = customer_ids[last_purchase_days_ago > 30]\n\nprint(\"Customers who made a purchase in the last 30 days:\\n\", recent_customers)\nprint(\"Customers who haven't made a purchase in the last 30 days:\\n\", non_recent_customers)",
      "metadata": {
        "trusted": true
      },
      "outputs": [
        {
          "name": "stdout",
          "text": "Customers who made a purchase in the last 30 days:\n [101 102 103 104 105]\nCustomers who haven't made a purchase in the last 30 days:\n [106 107 108 109 110]\n",
          "output_type": "stream"
        }
      ],
      "execution_count": 5
    },
    {
      "cell_type": "code",
      "source": "# Ques4.Suppose you have two sets of employee data—one containing information about\n# full-time employees and another containing information about part-time employees. You\n# want to combine this data to create a comprehensive employee dataset for HR analysis.\n\nfull_time_employees = np.array([\n    [101, 'John Doe', 'Full-Time', 55000],\n    [102, 'Jane Smith', 'Full-Time', 60000],\n    [103, 'Mike Johnson', 'Full-Time', 52000]])\n\npart_time_employees = np.array([\n    [201, 'Alice Brown', 'Part-Time', 25000],\n    [202, 'Bob Wilson', 'Part-Time', 28000],\n    [203, 'Emily Davis', 'Part-Time', 22000]])\n\nall_employees = np.concatenate((full_time_employees, part_time_employees), axis=0)\n\nprint(\"Comprehensive employee dataset:\")\nprint(all_employees)",
      "metadata": {
        "trusted": true
      },
      "outputs": [
        {
          "name": "stdout",
          "text": "Comprehensive employee dataset:\n[['101' 'John Doe' 'Full-Time' '55000']\n ['102' 'Jane Smith' 'Full-Time' '60000']\n ['103' 'Mike Johnson' 'Full-Time' '52000']\n ['201' 'Alice Brown' 'Part-Time' '25000']\n ['202' 'Bob Wilson' 'Part-Time' '28000']\n ['203' 'Emily Davis' 'Part-Time' '22000']]\n",
          "output_type": "stream"
        }
      ],
      "execution_count": 4
    },
    {
      "cell_type": "code",
      "source": "# Ques1. How to find the mean of every NumPy array in the given list?\n\narrays_list = [\n    np.array([3, 2, 8, 9]),\n    np.array([4, 12, 34, 25, 78]),\n    np.array([23, 12, 67])]\n\nmeans = [np.mean(arr) for arr in arrays_list]\n\nprint(\"Means of each array:\\n\", means)",
      "metadata": {
        "trusted": true
      },
      "outputs": [
        {
          "name": "stdout",
          "text": "Means of each array:\n [5.5, 30.6, 34.0]\n",
          "output_type": "stream"
        }
      ],
      "execution_count": 7
    },
    {
      "cell_type": "code",
      "source": "# Ques2. Compute the median of the flattened NumPy array\n\nx_odd = np.array([1, 2, 3, 4, 5, 6, 7])\n\nmedian_value = np.median(x_odd)\n\nprint(\"Printing Original array:\\n\",x_odd)\nprint(\"Median of the array:\\n\", median_value)",
      "metadata": {
        "trusted": true
      },
      "outputs": [
        {
          "name": "stdout",
          "text": "Printing Original array:\n [1 2 3 4 5 6 7]\nMedian of the array:\n 4.0\n",
          "output_type": "stream"
        }
      ],
      "execution_count": 10
    },
    {
      "cell_type": "code",
      "source": "# Ques3.Compute the standard deviation of the NumPy array\n\narr = np.array([20, 2, 7, 1, 34])\n\nstd_default = np.std(arr)\n\narr_float32 = arr.astype(np.float32)\nstd_float32 = np.std(arr_float32)\n\narr_float64 = arr.astype(np.float64)\nstd_float64 = np.std(arr_float64)\n\nprint(f\"arr : {arr.tolist()}\")\nprint(f\"std of arr : {std_default}\")\nprint(\"\\nMore precision with float32\")\nprint(f\"std of arr : {std_float32:.6f}\")\nprint(\"\\nMore accuracy with float64\")\nprint(f\"std of arr : {std_float64}\")",
      "metadata": {
        "trusted": true
      },
      "outputs": [
        {
          "name": "stdout",
          "text": "arr : [20, 2, 7, 1, 34]\nstd of arr : 12.576167937809991\n\nMore precision with float32\nstd of arr : 12.576168\n\nMore accuracy with float64\nstd of arr : 12.576167937809991\n",
          "output_type": "stream"
        }
      ],
      "execution_count": 11
    }
  ]
}